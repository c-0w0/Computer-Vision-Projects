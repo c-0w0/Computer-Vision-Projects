{
 "cells": [
  {
   "cell_type": "code",
   "execution_count": 1,
   "id": "59411419-4961-4b21-a5f2-0c6f6c581790",
   "metadata": {},
   "outputs": [],
   "source": [
    "# Standard imports\n",
    "import os\n",
    "\n",
    "# Third-party imports\n",
    "import cv2\n",
    "\n",
    "# Local imports\n",
    "from bbox_painter import BBoxPainter\n",
    "from parking_detector import ParkingDetector"
   ]
  },
  {
   "cell_type": "markdown",
   "id": "ba3fb66d-abc8-461a-afaa-88040e2cf86f",
   "metadata": {},
   "source": [
    "## Extract the first frame for bbox annotating purpose"
   ]
  },
  {
   "cell_type": "code",
   "execution_count": null,
   "id": "ec979e5f-037b-4088-9caa-92addeab6ba2",
   "metadata": {},
   "outputs": [],
   "source": [
    "vid_filepath = '../data/parking1.mp4'\n",
    "extract_filepath = None\n",
    "\n",
    "def extract_img():\n",
    "    vid = cv2.VideoCapture(vid_filepath)  \n",
    "    \n",
    "    ret, frame = vid.read()\n",
    "    if ret:\n",
    "        img = os.path.basename(vid_filepath).rsplit('.', 1)[0] + '.jpg'\n",
    "        extract_filepath = os.path.join('../output', img)\n",
    "        \n",
    "        os.makedirs(os.path.dirname(extract_filepath), exist_ok=True)\n",
    "        cv2.imwrite(extract_filepath, frame)\n",
    "    \n",
    "    vid.release()"
   ]
  },
  {
   "cell_type": "code",
   "execution_count": null,
   "id": "d8caef5f-8141-4e2f-b907-72cb16ebd5f6",
   "metadata": {},
   "outputs": [],
   "source": [
    "extract_img()"
   ]
  },
  {
   "cell_type": "markdown",
   "id": "2281b737-ba60-4d5e-95ea-1cc239dbf130",
   "metadata": {},
   "source": [
    "## Manually define the bboxes for parking slots"
   ]
  },
  {
   "cell_type": "code",
   "execution_count": 4,
   "id": "97fbcb67-70aa-46b7-a7ed-eed837804479",
   "metadata": {},
   "outputs": [],
   "source": [
    "painter = BBoxPainter()\n",
    "json_filepath = painter.get_json_filepath() or '../output/bboxes.json'"
   ]
  },
  {
   "cell_type": "code",
   "execution_count": 5,
   "id": "7d321ab1-cb78-4528-9cab-c49a0bbf28e9",
   "metadata": {},
   "outputs": [
    {
     "name": "stdout",
     "output_type": "stream",
     "text": [
      "\u001b[31m\u001b[1mrequirements:\u001b[0m Ultralytics requirement ['shapely>=2.0.0'] not found, attempting AutoUpdate...\n",
      "Collecting shapely>=2.0.0\n",
      "  Downloading shapely-2.1.1-cp312-cp312-win_amd64.whl.metadata (7.0 kB)\n",
      "Requirement already satisfied: numpy>=1.21 in c:\\users\\chun\\desktop\\_git\\venv_cv_parkinglotstatus\\lib\\site-packages (from shapely>=2.0.0) (2.2.6)\n",
      "Downloading shapely-2.1.1-cp312-cp312-win_amd64.whl (1.7 MB)\n",
      "   ---------------------------------------- 1.7/1.7 MB 23.2 MB/s eta 0:00:00\n",
      "Installing collected packages: shapely\n",
      "Successfully installed shapely-2.1.1\n",
      "\n",
      "\u001b[31m\u001b[1mrequirements:\u001b[0m AutoUpdate success  6.0s\n",
      "WARNING \u001b[31m\u001b[1mrequirements:\u001b[0m \u001b[1mRestart runtime or rerun command for updates to take effect\u001b[0m\n",
      "\n",
      "Ultralytics Solutions:  {'source': '../data/parking1.mp4', 'model': 'yolo11s.pt', 'classes': None, 'show_conf': True, 'show_labels': True, 'region': None, 'colormap': 21, 'show_in': True, 'show_out': True, 'up_angle': 145.0, 'down_angle': 90, 'kpts': [6, 8, 10], 'analytics_type': 'line', 'figsize': (12.8, 7.2), 'blur_ratio': 0.5, 'vision_point': (20, 20), 'crop_dir': 'cropped-detections', 'json_file': None, 'line_width': 2, 'records': 5, 'fps': 30.0, 'max_hist': 5, 'meter_per_pixel': 0.05, 'max_speed': 120, 'show': False, 'iou': 0.7, 'conf': 0.25, 'device': None, 'max_det': 300, 'half': False, 'tracker': 'botsort.yaml', 'verbose': True, 'data': 'images'}\n",
      "Downloading https://github.com/ultralytics/assets/releases/download/v8.3.0/yolo11s.pt to 'yolo11s.pt'...\n"
     ]
    },
    {
     "name": "stderr",
     "output_type": "stream",
     "text": [
      "100%|█████████████████████████████████████████████████████████████████████████████| 18.4M/18.4M [00:00<00:00, 24.3MB/s]\n"
     ]
    }
   ],
   "source": [
    "# classes - https://gist.github.com/rcland12/dc48e1963268ff98c8b2c4543e7a9be8\n",
    "parking = ParkingDetector(model='yolo11s.pt', source=vid_filepath, json_file=json_filepath) "
   ]
  },
  {
   "cell_type": "markdown",
   "id": "2e4ee22d-67f4-4004-8b6b-8add4cc2ca8d",
   "metadata": {},
   "source": [
    "## Output processed video to data/output.mp4"
   ]
  },
  {
   "cell_type": "code",
   "execution_count": 6,
   "id": "acaab44b-7fd4-457a-9612-dc33bb7c694f",
   "metadata": {},
   "outputs": [],
   "source": [
    "def output():\n",
    "    vid = cv2.VideoCapture(vid_filepath)\n",
    "    fps = vid.get(cv2.CAP_PROP_FPS)\n",
    "    frame_interval = int(1000/fps) # ms\n",
    "    \n",
    "    ret, frame = vid.read()\n",
    "    output_vid = cv2.VideoWriter('../output/output.mp4', cv2.VideoWriter_fourcc(*'MP4V'), frame_interval, (frame.shape[1], frame.shape[0]))\n",
    "    \n",
    "    while ret:\n",
    "        frame = parking.process_frame(frame)\n",
    "        output_vid.write(frame)\n",
    "        ret, frame = vid.read()\n",
    "    \n",
    "    vid.release()\n",
    "    output_vid.release()"
   ]
  },
  {
   "cell_type": "code",
   "execution_count": 7,
   "id": "cf0b65e1-dff8-4188-a088-404357b81179",
   "metadata": {},
   "outputs": [],
   "source": [
    "output()"
   ]
  }
 ],
 "metadata": {
  "kernelspec": {
   "display_name": "Python 3 (ipykernel)",
   "language": "python",
   "name": "python3"
  },
  "language_info": {
   "codemirror_mode": {
    "name": "ipython",
    "version": 3
   },
   "file_extension": ".py",
   "mimetype": "text/x-python",
   "name": "python",
   "nbconvert_exporter": "python",
   "pygments_lexer": "ipython3",
   "version": "3.12.9"
  }
 },
 "nbformat": 4,
 "nbformat_minor": 5
}
